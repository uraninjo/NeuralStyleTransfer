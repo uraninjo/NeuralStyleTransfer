{
 "cells": [
  {
   "cell_type": "code",
   "execution_count": 2,
   "id": "73b82ece",
   "metadata": {},
   "outputs": [
    {
     "name": "stdout",
     "output_type": "stream",
     "text": [
      "Collecting tensorflow-hub\n",
      "  Downloading tensorflow_hub-0.12.0-py2.py3-none-any.whl (108 kB)\n",
      "Requirement already satisfied: protobuf>=3.8.0 in c:\\users\\mehmu\\pycharmprojects\\pythonproject\\venv\\lib\\site-packages (from tensorflow-hub) (3.17.3)\n",
      "Requirement already satisfied: numpy>=1.12.0 in c:\\users\\mehmu\\pycharmprojects\\pythonproject\\venv\\lib\\site-packages (from tensorflow-hub) (1.19.5)\n",
      "Requirement already satisfied: six>=1.9 in c:\\users\\mehmu\\pycharmprojects\\pythonproject\\venv\\lib\\site-packages (from protobuf>=3.8.0->tensorflow-hub) (1.15.0)\n",
      "Installing collected packages: tensorflow-hub\n",
      "Successfully installed tensorflow-hub-0.12.0\n"
     ]
    }
   ],
   "source": [
    "!pip install tensorflow-hub"
   ]
  },
  {
   "cell_type": "code",
   "execution_count": 1,
   "id": "69881ace",
   "metadata": {},
   "outputs": [],
   "source": [
    "import tensorflow_hub as hub\n",
    "import tensorflow as tf\n",
    "from matplotlib import pyplot as plt\n",
    "import numpy as np\n",
    "import cv2"
   ]
  },
  {
   "cell_type": "code",
   "execution_count": 2,
   "id": "f3c795a3",
   "metadata": {},
   "outputs": [],
   "source": [
    "model=hub.load(\"https://tfhub.dev/google/magenta/arbitrary-image-stylization-v1-256/2\")"
   ]
  },
  {
   "cell_type": "code",
   "execution_count": 3,
   "id": "7c7942ea",
   "metadata": {},
   "outputs": [],
   "source": [
    "def img_yükleme(path):\n",
    "    img=tf.io.read_file(path)\n",
    "    img=tf.image.decode_image(img,channels=3)\n",
    "    img=tf.image.convert_image_dtype(img,tf.float32)\n",
    "    img=img[tf.newaxis,:]\n",
    "    return img"
   ]
  },
  {
   "cell_type": "code",
   "execution_count": 12,
   "id": "5f0af865",
   "metadata": {},
   "outputs": [],
   "source": [
    "dönüş_adları=['photos\\\\dönüştürülecek\\\\vegetaDarkBG.jpg','photos\\\\dönüştürülecek\\\\vegetarage.png']\n",
    "stil_adları=['photos\\\\stil\\\\Leonardo_da_Vinci_Mona_Lisa.jpg','photos\\\\stil\\\\Weeping-woman_picasso.jpg',\n",
    "             'photos\\\\stil\\\\xxx-pablo-picasso-operaya-yolculuk-.jpg']\n",
    "for i in dönüş_adları:\n",
    "    for x in stil_adları:\n",
    "        dönüştürülecek=img_yükleme(i)\n",
    "        stil=img_yükleme(x)\n",
    "        dönüştürülmüş_img=model(tf.constant(dönüştürülecek),tf.constant(stil))[0]\n",
    "        ad=str('generated\\\\'+str(dönüş_adları.index(i))+str(stil_adları.index(x))+'.jpg')\n",
    "        cv2.imwrite(ad,cv2.cvtColor(np.squeeze(dönüştürülmüş_img)*255,cv2.COLOR_BGR2RGB))"
   ]
  },
  {
   "cell_type": "code",
   "execution_count": null,
   "id": "248af75e",
   "metadata": {},
   "outputs": [],
   "source": []
  }
 ],
 "metadata": {
  "kernelspec": {
   "display_name": "Python 3 (ipykernel)",
   "language": "python",
   "name": "python3"
  },
  "language_info": {
   "codemirror_mode": {
    "name": "ipython",
    "version": 3
   },
   "file_extension": ".py",
   "mimetype": "text/x-python",
   "name": "python",
   "nbconvert_exporter": "python",
   "pygments_lexer": "ipython3",
   "version": "3.9.6"
  }
 },
 "nbformat": 4,
 "nbformat_minor": 5
}
